{
  "nbformat": 4,
  "nbformat_minor": 0,
  "metadata": {
    "colab": {
      "name": "DSL - 1.ipynb",
      "provenance": [],
      "collapsed_sections": [],
      "authorship_tag": "ABX9TyPTjaeRL9yAZZ8PpTfk9yMO",
      "include_colab_link": true
    },
    "kernelspec": {
      "name": "python3",
      "display_name": "Python 3"
    },
    "language_info": {
      "name": "python"
    }
  },
  "cells": [
    {
      "cell_type": "markdown",
      "metadata": {
        "id": "view-in-github",
        "colab_type": "text"
      },
      "source": [
        "<a href=\"https://colab.research.google.com/github/abhishekk159/hello-world/blob/master/1)%20Statistics%20and%20Pandas%20Preprocessing.ipynb\" target=\"_parent\"><img src=\"https://colab.research.google.com/assets/colab-badge.svg\" alt=\"Open In Colab\"/></a>"
      ]
    },
    {
      "cell_type": "code",
      "metadata": {
        "id": "iGbcai5U92XT"
      },
      "source": [
        "import pandas as pd\n",
        "import numpy as np\n",
        "from IPython.display import Image"
      ],
      "execution_count": 6,
      "outputs": []
    },
    {
      "cell_type": "markdown",
      "metadata": {
        "id": "MlE9DPwF-MwB"
      },
      "source": [
        "Datafram is a 2-D structure which is basically a combination of labelled series objects i.e. a Disctionary of servies.\n"
      ]
    },
    {
      "cell_type": "code",
      "metadata": {
        "colab": {
          "base_uri": "https://localhost:8080/"
        },
        "id": "ltXclIm8-Zay",
        "outputId": "3157c1c2-b21d-45c1-e103-49179432c26a"
      },
      "source": [
        "sampleDataFromDict = pd.DataFrame({'Items': [10, 5, 2],\n",
        "                                 'Price': [20, 5, 30],\n",
        "                                 'c3': ['a', 'b', 'c']})\n",
        "print(sampleDataFromDict)\n"
      ],
      "execution_count": 9,
      "outputs": [
        {
          "output_type": "stream",
          "text": [
            "   Items  Price c3\n",
            "0     10     20  a\n",
            "1      5      5  b\n",
            "2      2     30  c\n"
          ],
          "name": "stdout"
        }
      ]
    },
    {
      "cell_type": "markdown",
      "metadata": {
        "id": "bOh40uoZ-xCM"
      },
      "source": [
        "Reading the data"
      ]
    },
    {
      "cell_type": "code",
      "metadata": {
        "colab": {
          "base_uri": "https://localhost:8080/",
          "height": 35
        },
        "id": "GUho4s8C-yMB",
        "outputId": "5adcd969-b8a0-4797-f62b-0afaf33bf866"
      },
      "source": [
        "import os\n",
        "os.getcwd() # Get the current working directory\n",
        "\n",
        "# Reading the data from a CSV\n",
        "ipl = pd.read_csv(\"file\")\n",
        "ipl = pd.read_excel(\"<file>\")\n",
        "# pd.read <TAB> will let you know the available options\n",
        "\n",
        "# Reading through the data.\n",
        "ipl.head()   # Read top 5 rows\n",
        "ipl.head(10) # Read top 10 rows\n",
        "ipl.tail()   # Read last 5 rows\n",
        "ipl.tail(50) # Last 50 rows"
      ],
      "execution_count": 5,
      "outputs": [
        {
          "output_type": "execute_result",
          "data": {
            "application/vnd.google.colaboratory.intrinsic+json": {
              "type": "string"
            },
            "text/plain": [
              "'/content'"
            ]
          },
          "metadata": {
            "tags": []
          },
          "execution_count": 5
        }
      ]
    },
    {
      "cell_type": "markdown",
      "metadata": {
        "id": "bQNRT_e1AvZZ"
      },
      "source": [
        "Central Tendancies"
      ]
    },
    {
      "cell_type": "code",
      "metadata": {
        "id": "FmQf2ej1Axqi"
      },
      "source": [
        "mean_l   = ipl['win_by_runs'].mean()\n",
        "median_1 = ipl['win_by_wickets'].median()\n",
        "mode_l   = ipl['toss_decision'].mode()\n",
        "sd       = ipl['win_by_runs'].std()"
      ],
      "execution_count": null,
      "outputs": []
    }
  ]
}